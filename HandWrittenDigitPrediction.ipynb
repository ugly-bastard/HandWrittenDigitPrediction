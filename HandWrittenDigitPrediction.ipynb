{
 "cells": [
  {
   "cell_type": "markdown",
   "id": "bf3f91ac-e482-4bd3-b742-8d315e09fbff",
   "metadata": {},
   "source": [
    "# Hand Written Digit Prediction - Classification Analysis\n",
    "\n",
    "The digits dataset consists of 8x8 pixel images of digits The images attributes of the dataset stores 8x8 arrays of grayscale values for each image. We will use these arrays to visualize the first 4 digits. The target attribute of the dataset stores the digit each image represents."
   ]
  },
  {
   "cell_type": "markdown",
   "id": "35189ca7-b8d5-47c6-beb7-4d34bb71bf23",
   "metadata": {},
   "source": [
    "## Import Libraries"
   ]
  },
  {
   "cell_type": "code",
   "execution_count": 1,
   "id": "02d16d95-e6ba-48c6-a3e9-7982597361e6",
   "metadata": {},
   "outputs": [],
   "source": [
    "import pandas as pd\n",
    "import numpy as np\n",
    "import matplotlib.pyplot as plt"
   ]
  },
  {
   "cell_type": "code",
   "execution_count": 2,
   "id": "fcf6e9c0-9634-4f58-8386-eca394f9d6e1",
   "metadata": {},
   "outputs": [],
   "source": [
    "from sklearn.datasets import load_digits\n",
    "df = load_digits()"
   ]
  },
  {
   "cell_type": "code",
   "execution_count": 3,
   "id": "827fcf20-eb1b-4993-8bb4-110c04185207",
   "metadata": {},
   "outputs": [
    {
     "data": {
      "image/png": "[encoded data removed]",
      "text/plain": [
       "<Figure size 1000x300 with 4 Axes>"
      ]
     },
     "metadata": {},
     "output_type": "display_data"
    }
   ],
   "source": [
    "_, axes = plt.subplots(nrows=1, ncols=4, figsize=(10,3))\n",
    "for ax, image, label in zip(axes, df.images, df.target):\n",
    "    ax.set_axis_off()\n",
    "    ax.imshow(image, cmap=plt.cm.gray_r, interpolation=\"nearest\")\n",
    "    ax.set_title(\"Training: %i\" % label)"
   ]
  },
  {
   "cell_type": "markdown",
   "id": "d008b38b-0a26-4ad4-acfb-684c4c886c7a",
   "metadata": {},
   "source": [
    "## Data Preprocessing\n",
    "\n",
    "Flatten image"
   ]
  },
  {
   "cell_type": "code",
   "execution_count": 4,
   "id": "592c94bf-182b-4b9c-bdd6-8fa84a19570f",
   "metadata": {},
   "outputs": [
    {
     "data": {
      "text/plain": [
       "(1797, 8, 8)"
      ]
     },
     "execution_count": 4,
     "metadata": {},
     "output_type": "execute_result"
    }
   ],
   "source": [
    "df.images.shape"
   ]
  },
  {
   "cell_type": "code",
   "execution_count": 5,
   "id": "81d1b1e6-680b-4c0f-9cb1-d333418f8c99",
   "metadata": {},
   "outputs": [
    {
     "data": {
      "text/plain": [
       "array([[ 0.,  0.,  5., 13.,  9.,  1.,  0.,  0.],\n",
       "       [ 0.,  0., 13., 15., 10., 15.,  5.,  0.],\n",
       "       [ 0.,  3., 15.,  2.,  0., 11.,  8.,  0.],\n",
       "       [ 0.,  4., 12.,  0.,  0.,  8.,  8.,  0.],\n",
       "       [ 0.,  5.,  8.,  0.,  0.,  9.,  8.,  0.],\n",
       "       [ 0.,  4., 11.,  0.,  1., 12.,  7.,  0.],\n",
       "       [ 0.,  2., 14.,  5., 10., 12.,  0.,  0.],\n",
       "       [ 0.,  0.,  6., 13., 10.,  0.,  0.,  0.]])"
      ]
     },
     "execution_count": 5,
     "metadata": {},
     "output_type": "execute_result"
    }
   ],
   "source": [
    "df.images[0]"
   ]
  },
  {
   "cell_type": "code",
   "execution_count": 6,
   "id": "fec804d1-08f5-466d-8580-f70ece870eef",
   "metadata": {},
   "outputs": [
    {
     "data": {
      "text/plain": [
       "(8, 8)"
      ]
     },
     "execution_count": 6,
     "metadata": {},
     "output_type": "execute_result"
    }
   ],
   "source": [
    "df.images[0].shape"
   ]
  },
  {
   "cell_type": "code",
   "execution_count": 7,
   "id": "a9f2e007-b276-4a68-8c2f-2c1091d58c44",
   "metadata": {},
   "outputs": [
    {
     "data": {
      "text/plain": [
       "1797"
      ]
     },
     "execution_count": 7,
     "metadata": {},
     "output_type": "execute_result"
    }
   ],
   "source": [
    "len(df.images)"
   ]
  },
  {
   "cell_type": "code",
   "execution_count": 8,
   "id": "ecf7431f-5703-4719-8290-38799340e216",
   "metadata": {},
   "outputs": [
    {
     "data": {
      "text/plain": [
       "array([ 0.,  0.,  5., 13.,  9.,  1.,  0.,  0.,  0.,  0., 13., 15., 10.,\n",
       "       15.,  5.,  0.,  0.,  3., 15.,  2.,  0., 11.,  8.,  0.,  0.,  4.,\n",
       "       12.,  0.,  0.,  8.,  8.,  0.,  0.,  5.,  8.,  0.,  0.,  9.,  8.,\n",
       "        0.,  0.,  4., 11.,  0.,  1., 12.,  7.,  0.,  0.,  2., 14.,  5.,\n",
       "       10., 12.,  0.,  0.,  0.,  0.,  6., 13., 10.,  0.,  0.,  0.])"
      ]
     },
     "execution_count": 8,
     "metadata": {},
     "output_type": "execute_result"
    }
   ],
   "source": [
    "n_samples = len(df.images)\n",
    "data = df.images.reshape((n_samples, -1))\n",
    "data[0]"
   ]
  },
  {
   "cell_type": "code",
   "execution_count": 9,
   "id": "64f5f2c2-771f-4c3a-953e-76fae658b366",
   "metadata": {},
   "outputs": [
    {
     "data": {
      "text/plain": [
       "(64,)"
      ]
     },
     "execution_count": 9,
     "metadata": {},
     "output_type": "execute_result"
    }
   ],
   "source": [
    "data[0].shape"
   ]
  },
  {
   "cell_type": "code",
   "execution_count": 10,
   "id": "c2a411ca-f76f-4a70-9bf4-48670e47061e",
   "metadata": {},
   "outputs": [
    {
     "data": {
      "text/plain": [
       "(1797, 64)"
      ]
     },
     "execution_count": 10,
     "metadata": {},
     "output_type": "execute_result"
    }
   ],
   "source": [
    "data.shape"
   ]
  },
  {
   "cell_type": "markdown",
   "id": "3e674a2b-1913-4fec-a4b6-2ab18c52c24b",
   "metadata": {},
   "source": [
    "## Scaling image data"
   ]
  },
  {
   "cell_type": "code",
   "execution_count": 11,
   "id": "2c7385f5-0467-4ec0-9ed3-44deccd5467f",
   "metadata": {},
   "outputs": [
    {
     "data": {
      "text/plain": [
       "0.0"
      ]
     },
     "execution_count": 11,
     "metadata": {},
     "output_type": "execute_result"
    }
   ],
   "source": [
    "data.min()"
   ]
  },
  {
   "cell_type": "code",
   "execution_count": 12,
   "id": "74c2d5c4-f65b-43eb-9d63-5c50ca0946a9",
   "metadata": {},
   "outputs": [
    {
     "data": {
      "text/plain": [
       "16.0"
      ]
     },
     "execution_count": 12,
     "metadata": {},
     "output_type": "execute_result"
    }
   ],
   "source": [
    "data.max()"
   ]
  },
  {
   "cell_type": "code",
   "execution_count": 13,
   "id": "8a06b006-e476-46c5-a732-29408161236b",
   "metadata": {},
   "outputs": [],
   "source": [
    "data = data/16"
   ]
  },
  {
   "cell_type": "code",
   "execution_count": 14,
   "id": "a2f373ca-2c6a-41d9-8ff4-7e72caddedaf",
   "metadata": {},
   "outputs": [
    {
     "data": {
      "text/plain": [
       "0.0"
      ]
     },
     "execution_count": 14,
     "metadata": {},
     "output_type": "execute_result"
    }
   ],
   "source": [
    "data.min()"
   ]
  },
  {
   "cell_type": "code",
   "execution_count": 15,
   "id": "ce518459-be5b-456a-bb02-80f77d1bd41d",
   "metadata": {},
   "outputs": [
    {
     "data": {
      "text/plain": [
       "1.0"
      ]
     },
     "execution_count": 15,
     "metadata": {},
     "output_type": "execute_result"
    }
   ],
   "source": [
    "data.max()"
   ]
  },
  {
   "cell_type": "code",
   "execution_count": 16,
   "id": "c21f4203-98cc-4fa3-9843-568157e39f7f",
   "metadata": {},
   "outputs": [
    {
     "data": {
      "text/plain": [
       "array([0.    , 0.    , 0.3125, 0.8125, 0.5625, 0.0625, 0.    , 0.    ,\n",
       "       0.    , 0.    , 0.8125, 0.9375, 0.625 , 0.9375, 0.3125, 0.    ,\n",
       "       0.    , 0.1875, 0.9375, 0.125 , 0.    , 0.6875, 0.5   , 0.    ,\n",
       "       0.    , 0.25  , 0.75  , 0.    , 0.    , 0.5   , 0.5   , 0.    ,\n",
       "       0.    , 0.3125, 0.5   , 0.    , 0.    , 0.5625, 0.5   , 0.    ,\n",
       "       0.    , 0.25  , 0.6875, 0.    , 0.0625, 0.75  , 0.4375, 0.    ,\n",
       "       0.    , 0.125 , 0.875 , 0.3125, 0.625 , 0.75  , 0.    , 0.    ,\n",
       "       0.    , 0.    , 0.375 , 0.8125, 0.625 , 0.    , 0.    , 0.    ])"
      ]
     },
     "execution_count": 16,
     "metadata": {},
     "output_type": "execute_result"
    }
   ],
   "source": [
    "data[0]"
   ]
  },
  {
   "cell_type": "markdown",
   "id": "b8539ea4-a927-45f9-ad05-550aa48d40fc",
   "metadata": {},
   "source": [
    "## Train test split data"
   ]
  },
  {
   "cell_type": "code",
   "execution_count": 17,
   "id": "c8468c37-281b-45a3-9664-b70ea28a575d",
   "metadata": {},
   "outputs": [],
   "source": [
    "from sklearn.model_selection import train_test_split\n",
    "\n",
    "x_train, x_test, y_train, y_test = train_test_split(data, df.target, test_size=0.3)"
   ]
  },
  {
   "cell_type": "code",
   "execution_count": 18,
   "id": "9da775e5-a253-4336-b2c8-677880a002bf",
   "metadata": {},
   "outputs": [
    {
     "data": {
      "text/plain": [
       "((1257, 64), (540, 64), (1257,), (540,))"
      ]
     },
     "execution_count": 18,
     "metadata": {},
     "output_type": "execute_result"
    }
   ],
   "source": [
    "x_train.shape, x_test.shape, y_train.shape, y_test.shape"
   ]
  },
  {
   "cell_type": "markdown",
   "id": "03a8c367-c4ac-4c89-910a-fec9d97ee36d",
   "metadata": {},
   "source": [
    "## Random Forest Model"
   ]
  },
  {
   "cell_type": "code",
   "execution_count": 19,
   "id": "dc080d21-9ada-4de9-bca8-05f679df9aaa",
   "metadata": {},
   "outputs": [
    {
     "data": {
      "text/html": [
       "<style>#sk-container-id-1 {color: black;background-color: white;}#sk-container-id-1 pre{padding: 0;}#sk-container-id-1 div.sk-toggleable {background-color: white;}#sk-container-id-1 label.sk-toggleable__label {cursor: pointer;display: block;width: 100%;margin-bottom: 0;padding: 0.3em;box-sizing: border-box;text-align: center;}#sk-container-id-1 label.sk-toggleable__label-arrow:before {content: \"▸\";float: left;margin-right: 0.25em;color: #696969;}#sk-container-id-1 label.sk-toggleable__label-arrow:hover:before {color: black;}#sk-container-id-1 div.sk-estimator:hover label.sk-toggleable__label-arrow:before {color: black;}#sk-container-id-1 div.sk-toggleable__content {max-height: 0;max-width: 0;overflow: hidden;text-align: left;background-color: #f0f8ff;}#sk-container-id-1 div.sk-toggleable__content pre {margin: 0.2em;color: black;border-radius: 0.25em;background-color: #f0f8ff;}#sk-container-id-1 input.sk-toggleable__control:checked~div.sk-toggleable__content {max-height: 200px;max-width: 100%;overflow: auto;}#sk-container-id-1 input.sk-toggleable__control:checked~label.sk-toggleable__label-arrow:before {content: \"▾\";}#sk-container-id-1 div.sk-estimator input.sk-toggleable__control:checked~label.sk-toggleable__label {background-color: #d4ebff;}#sk-container-id-1 div.sk-label input.sk-toggleable__control:checked~label.sk-toggleable__label {background-color: #d4ebff;}#sk-container-id-1 input.sk-hidden--visually {border: 0;clip: rect(1px 1px 1px 1px);clip: rect(1px, 1px, 1px, 1px);height: 1px;margin: -1px;overflow: hidden;padding: 0;position: absolute;width: 1px;}#sk-container-id-1 div.sk-estimator {font-family: monospace;background-color: #f0f8ff;border: 1px dotted black;border-radius: 0.25em;box-sizing: border-box;margin-bottom: 0.5em;}#sk-container-id-1 div.sk-estimator:hover {background-color: #d4ebff;}#sk-container-id-1 div.sk-parallel-item::after {content: \"\";width: 100%;border-bottom: 1px solid gray;flex-grow: 1;}#sk-container-id-1 div.sk-label:hover label.sk-toggleable__label {background-color: #d4ebff;}#sk-container-id-1 div.sk-serial::before {content: \"\";position: absolute;border-left: 1px solid gray;box-sizing: border-box;top: 0;bottom: 0;left: 50%;z-index: 0;}#sk-container-id-1 div.sk-serial {display: flex;flex-direction: column;align-items: center;background-color: white;padding-right: 0.2em;padding-left: 0.2em;position: relative;}#sk-container-id-1 div.sk-item {position: relative;z-index: 1;}#sk-container-id-1 div.sk-parallel {display: flex;align-items: stretch;justify-content: center;background-color: white;position: relative;}#sk-container-id-1 div.sk-item::before, #sk-container-id-1 div.sk-parallel-item::before {content: \"\";position: absolute;border-left: 1px solid gray;box-sizing: border-box;top: 0;bottom: 0;left: 50%;z-index: -1;}#sk-container-id-1 div.sk-parallel-item {display: flex;flex-direction: column;z-index: 1;position: relative;background-color: white;}#sk-container-id-1 div.sk-parallel-item:first-child::after {align-self: flex-end;width: 50%;}#sk-container-id-1 div.sk-parallel-item:last-child::after {align-self: flex-start;width: 50%;}#sk-container-id-1 div.sk-parallel-item:only-child::after {width: 0;}#sk-container-id-1 div.sk-dashed-wrapped {border: 1px dashed gray;margin: 0 0.4em 0.5em 0.4em;box-sizing: border-box;padding-bottom: 0.4em;background-color: white;}#sk-container-id-1 div.sk-label label {font-family: monospace;font-weight: bold;display: inline-block;line-height: 1.2em;}#sk-container-id-1 div.sk-label-container {text-align: center;}#sk-container-id-1 div.sk-container {/* jupyter's `normalize.less` sets `[hidden] { display: none; }` but bootstrap.min.css set `[hidden] { display: none !important; }` so we also need the `!important` here to be able to override the default hidden behavior on the sphinx rendered scikit-learn.org. See: https://github.com/scikit-learn/scikit-learn/issues/21755 */display: inline-block !important;position: relative;}#sk-container-id-1 div.sk-text-repr-fallback {display: none;}</style><div id=\"sk-container-id-1\" class=\"sk-top-container\"><div class=\"sk-text-repr-fallback\"><pre>RandomForestClassifier()</pre><b>In a Jupyter environment, please rerun this cell to show the HTML representation or trust the notebook. <br />On GitHub, the HTML representation is unable to render, please try loading this page with nbviewer.org.</b></div><div class=\"sk-container\" hidden><div class=\"sk-item\"><div class=\"sk-estimator sk-toggleable\"><input class=\"sk-toggleable__control sk-hidden--visually\" id=\"sk-estimator-id-1\" type=\"checkbox\" checked><label for=\"sk-estimator-id-1\" class=\"sk-toggleable__label sk-toggleable__label-arrow\">RandomForestClassifier</label><div class=\"sk-toggleable__content\"><pre>RandomForestClassifier()</pre></div></div></div></div></div>"
      ],
      "text/plain": [
       "RandomForestClassifier()"
      ]
     },
     "execution_count": 19,
     "metadata": {},
     "output_type": "execute_result"
    }
   ],
   "source": [
    "from sklearn.ensemble import RandomForestClassifier\n",
    "\n",
    "rf = RandomForestClassifier()\n",
    "rf.fit(x_train, y_train)"
   ]
  },
  {
   "cell_type": "markdown",
   "id": "703a82c7-0fe4-4305-88f8-06f374db5707",
   "metadata": {},
   "source": [
    "## Predict test data"
   ]
  },
  {
   "cell_type": "code",
   "execution_count": 20,
   "id": "ddab9b2a-e1ab-4f93-8115-f1646f206882",
   "metadata": {},
   "outputs": [
    {
     "data": {
      "text/plain": [
       "array([5, 7, 5, 6, 8, 0, 7, 2, 4, 9, 6, 3, 7, 7, 7, 1, 1, 7, 2, 7, 7, 6,\n",
       "       6, 7, 5, 0, 4, 4, 7, 0, 6, 1, 5, 1, 8, 2, 1, 0, 0, 4, 5, 8, 5, 9,\n",
       "       7, 5, 6, 5, 9, 3, 7, 7, 5, 6, 8, 7, 8, 3, 1, 9, 6, 2, 7, 4, 6, 4,\n",
       "       6, 7, 2, 9, 3, 5, 7, 2, 8, 6, 1, 2, 1, 5, 1, 2, 1, 5, 0, 9, 2, 3,\n",
       "       7, 1, 7, 1, 3, 0, 7, 9, 1, 9, 7, 0, 6, 9, 9, 2, 4, 2, 8, 0, 5, 0,\n",
       "       3, 0, 7, 1, 7, 0, 2, 2, 2, 5, 8, 0, 9, 1, 0, 2, 5, 6, 5, 5, 6, 2,\n",
       "       9, 8, 5, 8, 2, 3, 4, 9, 9, 2, 8, 2, 8, 8, 2, 8, 8, 3, 5, 5, 7, 0,\n",
       "       9, 3, 7, 7, 9, 2, 7, 2, 6, 7, 6, 0, 3, 1, 6, 8, 2, 2, 8, 3, 0, 0,\n",
       "       6, 0, 2, 1, 0, 2, 0, 0, 0, 8, 3, 6, 0, 4, 1, 6, 6, 4, 9, 9, 3, 9,\n",
       "       8, 0, 1, 4, 2, 8, 7, 4, 2, 2, 1, 6, 9, 2, 8, 2, 1, 5, 3, 9, 4, 8,\n",
       "       0, 4, 8, 7, 1, 4, 1, 6, 3, 4, 7, 7, 8, 7, 4, 6, 2, 9, 9, 7, 5, 2,\n",
       "       5, 6, 6, 2, 4, 1, 1, 6, 4, 1, 2, 3, 0, 9, 0, 6, 0, 9, 7, 8, 8, 4,\n",
       "       2, 3, 1, 4, 7, 9, 3, 3, 6, 7, 7, 8, 6, 4, 0, 3, 7, 4, 7, 8, 3, 8,\n",
       "       8, 0, 0, 2, 6, 0, 3, 6, 1, 2, 0, 8, 7, 0, 8, 9, 6, 1, 1, 1, 7, 7,\n",
       "       6, 9, 0, 6, 0, 9, 3, 3, 3, 3, 6, 5, 5, 0, 2, 5, 2, 2, 8, 7, 6, 0,\n",
       "       5, 8, 6, 6, 5, 1, 9, 2, 4, 6, 2, 6, 1, 6, 5, 1, 4, 3, 6, 3, 0, 0,\n",
       "       6, 4, 6, 1, 3, 0, 0, 6, 7, 5, 2, 1, 2, 5, 9, 2, 9, 8, 9, 6, 7, 7,\n",
       "       5, 2, 2, 1, 5, 1, 7, 3, 1, 3, 4, 1, 2, 6, 4, 2, 4, 1, 2, 8, 4, 1,\n",
       "       5, 8, 6, 3, 4, 1, 4, 7, 7, 6, 9, 1, 2, 8, 5, 5, 2, 9, 4, 7, 7, 0,\n",
       "       8, 9, 5, 4, 5, 8, 7, 7, 9, 6, 0, 7, 7, 1, 5, 9, 3, 9, 0, 8, 6, 5,\n",
       "       7, 4, 1, 6, 7, 5, 6, 4, 7, 1, 5, 6, 4, 0, 7, 7, 4, 5, 1, 8, 5, 9,\n",
       "       0, 8, 0, 6, 0, 5, 3, 0, 0, 4, 3, 1, 2, 6, 6, 3, 3, 2, 7, 5, 2, 8,\n",
       "       9, 5, 5, 0, 3, 6, 1, 0, 0, 6, 7, 3, 4, 9, 8, 4, 1, 1, 6, 1, 9, 9,\n",
       "       0, 3, 5, 2, 7, 5, 0, 2, 1, 2, 0, 4, 4, 9, 9, 7, 8, 7, 6, 0, 5, 0,\n",
       "       4, 1, 3, 1, 7, 5, 7, 9, 6, 9, 4, 0])"
      ]
     },
     "execution_count": 20,
     "metadata": {},
     "output_type": "execute_result"
    }
   ],
   "source": [
    "y_pred = rf.predict(x_test)\n",
    "y_pred"
   ]
  },
  {
   "cell_type": "markdown",
   "id": "836d54a8-cae0-4a83-bfec-0d5beb134ce8",
   "metadata": {},
   "source": [
    "## Model Accuracy"
   ]
  },
  {
   "cell_type": "code",
   "execution_count": 21,
   "id": "c147197c-35e2-478f-90f5-8c015ab7e36f",
   "metadata": {},
   "outputs": [
    {
     "data": {
      "text/plain": [
       "array([[61,  0,  0,  0,  1,  0,  0,  0,  0,  0],\n",
       "       [ 0, 55,  0,  0,  0,  0,  0,  0,  0,  0],\n",
       "       [ 0,  0, 58,  0,  0,  0,  0,  0,  0,  0],\n",
       "       [ 0,  0,  0, 42,  0,  0,  0,  2,  0,  0],\n",
       "       [ 0,  0,  0,  0, 44,  0,  0,  0,  0,  0],\n",
       "       [ 0,  0,  0,  0,  0, 52,  1,  0,  0,  1],\n",
       "       [ 0,  0,  0,  0,  0,  0, 62,  0,  0,  0],\n",
       "       [ 0,  0,  0,  0,  0,  0,  0, 65,  0,  0],\n",
       "       [ 0,  0,  1,  0,  0,  0,  0,  1, 45,  0],\n",
       "       [ 0,  1,  0,  0,  0,  0,  0,  0,  1, 47]])"
      ]
     },
     "execution_count": 21,
     "metadata": {},
     "output_type": "execute_result"
    }
   ],
   "source": [
    "from sklearn.metrics import confusion_matrix, classification_report\n",
    "\n",
    "confusion_matrix(y_test, y_pred)"
   ]
  },
  {
   "cell_type": "code",
   "execution_count": 22,
   "id": "e3587b6b-1726-4ade-a421-01816a7a6956",
   "metadata": {},
   "outputs": [
    {
     "name": "stdout",
     "output_type": "stream",
     "text": [
      "              precision    recall  f1-score   support\n",
      "\n",
      "           0       1.00      0.98      0.99        62\n",
      "           1       0.98      1.00      0.99        55\n",
      "           2       0.98      1.00      0.99        58\n",
      "           3       1.00      0.95      0.98        44\n",
      "           4       0.98      1.00      0.99        44\n",
      "           5       1.00      0.96      0.98        54\n",
      "           6       0.98      1.00      0.99        62\n",
      "           7       0.96      1.00      0.98        65\n",
      "           8       0.98      0.96      0.97        47\n",
      "           9       0.98      0.96      0.97        49\n",
      "\n",
      "    accuracy                           0.98       540\n",
      "   macro avg       0.98      0.98      0.98       540\n",
      "weighted avg       0.98      0.98      0.98       540\n",
      "\n"
     ]
    }
   ],
   "source": [
    "print(classification_report(y_test, y_pred))"
   ]
  }
 ],
 "metadata": {
  "kernelspec": {
   "display_name": "ybiHandWrittenDigitPrediction",
   "language": "python",
   "name": "ybihandwrittendigitprediction"
  },
  "language_info": {
   "codemirror_mode": {
    "name": "ipython",
    "version": 3
   },
   "file_extension": ".py",
   "mimetype": "text/x-python",
   "name": "python",
   "nbconvert_exporter": "python",
   "pygments_lexer": "ipython3",
   "version": "3.11.3"
  }
 },
 "nbformat": 4,
 "nbformat_minor": 5
}
